{
 "cells": [
  {
   "cell_type": "code",
   "execution_count": 1,
   "id": "634e81b4",
   "metadata": {},
   "outputs": [],
   "source": [
    "import pandas as pd\n",
    "import numpy as np"
   ]
  },
  {
   "cell_type": "code",
   "execution_count": 2,
   "id": "bd1bbacb",
   "metadata": {},
   "outputs": [],
   "source": [
    "# https://www.kaggle.com/datasets/deepcontractor/car-price-prediction-challenge\n",
    "df = pd.read_csv('data/car_price_prediction.csv')"
   ]
  },
  {
   "cell_type": "code",
   "execution_count": 3,
   "id": "286b3186",
   "metadata": {},
   "outputs": [],
   "source": [
    "# rename columns\n",
    "df.columns = ['car_id', 'price', 'levy', 'manufacturer', 'model', 'prod_year', 'category',\n",
    "              'leather_interior', 'fuel_type', 'engine_volume', 'mileage', 'cylinders', 'gear_box_type',\n",
    "              'drive_wheels','doors', 'wheel', 'color', 'airbags']"
   ]
  },
  {
   "cell_type": "code",
   "execution_count": 4,
   "id": "bfd370a0",
   "metadata": {},
   "outputs": [],
   "source": [
    "# i'm including tesla in this case b/c there's one tesla car in the dataset that's model X and worth $53K\n",
    "luxury_brands = ['LEXUS', 'MERCEDES-BENZ', 'PORSCHE', 'BMW', 'AUDI', 'INFINITI',\n",
    "                'ALFA ROMEO', 'ACURA', 'LINCOLN', 'LAND ROVER', 'JAGUAR', 'CADILLAC',\n",
    "                'BENTLEY', 'VOLVO', 'MASERATI', 'FERRARI', 'LAMBORGHINI', 'ROLLS-ROYCE',\n",
    "                'ASTON MARTIN', 'TESLA']\n",
    "\n",
    "df['is_luxury_manufacturer'] = df['manufacturer'].apply(lambda x: x in luxury_brands)"
   ]
  },
  {
   "cell_type": "code",
   "execution_count": 5,
   "id": "0bca74c0",
   "metadata": {},
   "outputs": [],
   "source": [
    "# map random colors to reduce the list\n",
    "color_mapping = {'Carnelian red': 'Red',\n",
    "                 'Beige': 'Brown',\n",
    "                 'Golden': 'Yellow',\n",
    "                 'Pink': 'Other',\n",
    "                 'Green': 'Other',\n",
    "                 'Purple': 'Other',\n",
    "                 'Orange': 'Other',\n",
    "                 'Sky blue': 'Blue'}\n",
    "\n",
    "df['color_new'] = df['color'].map(color_mapping).fillna(df['color'])"
   ]
  },
  {
   "cell_type": "code",
   "execution_count": 6,
   "id": "68854dd8",
   "metadata": {},
   "outputs": [],
   "source": [
    "# the original mileage column had km recorded and was in km. converting to miles\n",
    "df['mileage_miles'] = df['mileage'].str.replace(' km', '').astype(int) * 0.621371"
   ]
  },
  {
   "cell_type": "code",
   "execution_count": 7,
   "id": "ecd974cd",
   "metadata": {},
   "outputs": [],
   "source": [
    "# assume this data was collected in 2021 and prices were listed as 2021.. or assume current year is 2021\n",
    "df['car_age'] = 2021 - df.prod_year"
   ]
  },
  {
   "cell_type": "code",
   "execution_count": 8,
   "id": "a992b83a",
   "metadata": {},
   "outputs": [],
   "source": [
    "# creating a capped price column out of curiosity\n",
    "percentile_97_5 = np.percentile(df['price'], 97.5)\n",
    "df['capped_price'] = df['price'].clip(upper=percentile_97_5)"
   ]
  },
  {
   "cell_type": "code",
   "execution_count": 9,
   "id": "0dc4cb2e",
   "metadata": {},
   "outputs": [],
   "source": [
    "# convert engine volume to 2 columns: engine volume new and if it's turbo\n",
    "df['engine_volume_new'] = df['engine_volume'].str.replace(' Turbo', '').astype(float)\n",
    "df['turbo_engine_ind'] = df['engine_volume'].str.contains('Turbo')"
   ]
  },
  {
   "cell_type": "code",
   "execution_count": 10,
   "id": "0b7f9d3b",
   "metadata": {},
   "outputs": [],
   "source": [
    "# map gear box type to automatic transmission indicator\n",
    "df['is_automatic_transmission_ind'] = df['gear_box_type'].map({'Automatic': 1, 'Tiptronic': 1, 'Variator': 1, 'Manual': 0})"
   ]
  },
  {
   "cell_type": "code",
   "execution_count": 11,
   "id": "8350daf4",
   "metadata": {},
   "outputs": [],
   "source": [
    "# converting categorical columns\n",
    "df = pd.get_dummies(df, columns=['category'], drop_first=True)"
   ]
  },
  {
   "cell_type": "code",
   "execution_count": 12,
   "id": "acdd0a81",
   "metadata": {},
   "outputs": [],
   "source": [
    "df = pd.get_dummies(df, columns=['fuel_type'], drop_first=True)"
   ]
  },
  {
   "cell_type": "code",
   "execution_count": 13,
   "id": "6f298136",
   "metadata": {},
   "outputs": [],
   "source": [
    "df = pd.get_dummies(df, columns=['gear_box_type'], drop_first=True)"
   ]
  },
  {
   "cell_type": "code",
   "execution_count": 14,
   "id": "58faeaa4",
   "metadata": {},
   "outputs": [],
   "source": [
    "df = pd.get_dummies(df, columns=['drive_wheels'], drop_first=True)"
   ]
  },
  {
   "cell_type": "code",
   "execution_count": 15,
   "id": "e06e1c33",
   "metadata": {},
   "outputs": [],
   "source": [
    "df = pd.get_dummies(df, columns=['color_new'], drop_first=True)"
   ]
  },
  {
   "cell_type": "code",
   "execution_count": 16,
   "id": "60d7aaf2",
   "metadata": {},
   "outputs": [],
   "source": [
    "# map leather interior to True False\n",
    "df['leather_interior'] = df['leather_interior'].map({'Yes': 1, 'No': 0})"
   ]
  },
  {
   "cell_type": "code",
   "execution_count": 17,
   "id": "62dfe2bd",
   "metadata": {},
   "outputs": [],
   "source": [
    "percentile_99_5 = np.percentile(df['price'],99.5)\n",
    "\n",
    "# decided to drop records sold below $1k and past the 99.5th percentile\n",
    "df_filtered = df[df.price > 1000]\n",
    "df_filtered = df_filtered[df_filtered.price <= percentile_99_5]"
   ]
  },
  {
   "cell_type": "code",
   "execution_count": 18,
   "id": "29f81d49",
   "metadata": {},
   "outputs": [],
   "source": [
    "# also decide to remove these records with 0 miles\n",
    "df_filtered = df_filtered[df_filtered.mileage_miles != 0]"
   ]
  },
  {
   "cell_type": "code",
   "execution_count": 19,
   "id": "77fc097e",
   "metadata": {},
   "outputs": [],
   "source": [
    "df_filtered.to_csv('data/car_price_prediction_clean_notebook.csv', index = False)"
   ]
  }
 ],
 "metadata": {
  "kernelspec": {
   "display_name": "Python 3 (ipykernel)",
   "language": "python",
   "name": "python3"
  },
  "language_info": {
   "codemirror_mode": {
    "name": "ipython",
    "version": 3
   },
   "file_extension": ".py",
   "mimetype": "text/x-python",
   "name": "python",
   "nbconvert_exporter": "python",
   "pygments_lexer": "ipython3",
   "version": "3.11.5"
  }
 },
 "nbformat": 4,
 "nbformat_minor": 5
}
